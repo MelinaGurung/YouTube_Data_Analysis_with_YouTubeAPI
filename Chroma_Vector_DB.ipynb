{
  "nbformat": 4,
  "nbformat_minor": 0,
  "metadata": {
    "colab": {
      "provenance": [],
      "authorship_tag": "ABX9TyMA1xY293RePI7/sePiCjiB",
      "include_colab_link": true
    },
    "kernelspec": {
      "name": "python3",
      "display_name": "Python 3"
    },
    "language_info": {
      "name": "python"
    }
  },
  "cells": [
    {
      "cell_type": "markdown",
      "metadata": {
        "id": "view-in-github",
        "colab_type": "text"
      },
      "source": [
        "<a href=\"https://colab.research.google.com/github/MelinaGurung/YouTube_Data_Analysis_with_YouTubeAPI/blob/main/Chroma_Vector_DB.ipynb\" target=\"_parent\"><img src=\"https://colab.research.google.com/assets/colab-badge.svg\" alt=\"Open In Colab\"/></a>"
      ]
    },
    {
      "cell_type": "code",
      "source": [
        "import pandas as pd"
      ],
      "metadata": {
        "id": "m9eNHwv7qKie"
      },
      "execution_count": 1,
      "outputs": []
    },
    {
      "cell_type": "code",
      "source": [
        "df = pd.read_csv('Main_translated_database.csv')\n",
        "print(df.head())"
      ],
      "metadata": {
        "colab": {
          "base_uri": "https://localhost:8080/"
        },
        "id": "RtPgTSNoqOkx",
        "outputId": "ec55bde2-9790-4319-cf12-5e8461dfedee"
      },
      "execution_count": 6,
      "outputs": [
        {
          "output_type": "stream",
          "name": "stdout",
          "text": [
            "     video_ids                                       descriptions  \\\n",
            "0  JRfDLzLNVNg  本影片為虛擬貨幣詐騙系列「下集」\\n\\n上集影片傳送門：\\nhttps://bit.ly/3...   \n",
            "1  e1QSIrXcDwo  《可自行調整影片播放速度》\\n\\n迷因幣離製作影片當下已有很大的漲跌變化，投資者須自行注意風...   \n",
            "2  hgc_8Vkw4_U  📢 大家有沒有發現，最近各大場合都出現了一家交易所的身影？它就是OKX！\\n\\n👉 OKX ...   \n",
            "3  hzVDiif7Of4  ・00:00 前言\\n・00:24 事情怎麼發生的\\n・02:25 為什麼可以漲到 100 ...   \n",
            "4  GjnhyCtJq7o  《可自行調整影片播放速度》\\n\\n・00:45 前言\\n・00:30 比特幣是什麼\\n・01...   \n",
            "\n",
            "                                              titles  view_counts  \\\n",
            "0  虛擬貨幣詐騙手段大公開！被騙了怎麼辦？調查官經手案例居然有這麼多？ft.@腦哥 @brain...         1696   \n",
            "1                                  3天賺1000倍？迷因幣要怎麼玩？         1614   \n",
            "2                 【OKX 交易所完整教學】入金出金、註冊、 交易、合約、Web3錢包         4672   \n",
            "3                            比特幣即將在 6/17 之前突破100萬美元？          782   \n",
            "4                                  比特幣暴漲，它到底是不是避險資產？          343   \n",
            "\n",
            "                channel_ids         publish_dates  \\\n",
            "0  UCKyoG3_GoNdCgg5sDoDnnNg  2023-09-21T11:00:08Z   \n",
            "1  UCKyoG3_GoNdCgg5sDoDnnNg  2023-04-22T13:48:31Z   \n",
            "2  UCKyoG3_GoNdCgg5sDoDnnNg  2023-04-16T12:15:05Z   \n",
            "3  UCKyoG3_GoNdCgg5sDoDnnNg  2023-03-29T12:00:11Z   \n",
            "4  UCKyoG3_GoNdCgg5sDoDnnNg  2023-03-27T04:00:07Z   \n",
            "\n",
            "                                                tags  \\\n",
            "0  ['虛擬貨幣詐騙', '加密貨幣詐騙', '虛擬貨幣交易所詐騙', '泰達幣詐騙', '加密...   \n",
            "1  ['Grenade手榴彈', 'NFT', '加密貨幣', '區塊鏈', '加密貨幣懶人包'...   \n",
            "2                                                NaN   \n",
            "3  ['Grenade手榴彈', 'NFT', '加密貨幣', '區塊鏈', '加密貨幣懶人包'...   \n",
            "4  ['Grenade手榴彈', 'NFT', '加密貨幣', '區塊鏈', '加密貨幣懶人包'...   \n",
            "\n",
            "                                          thumbnails  \\\n",
            "0  {'url': 'https://i.ytimg.com/vi/JRfDLzLNVNg/de...   \n",
            "1  {'url': 'https://i.ytimg.com/vi/e1QSIrXcDwo/de...   \n",
            "2  {'url': 'https://i.ytimg.com/vi/hgc_8Vkw4_U/de...   \n",
            "3  {'url': 'https://i.ytimg.com/vi/hzVDiif7Of4/de...   \n",
            "4  {'url': 'https://i.ytimg.com/vi/GjnhyCtJq7o/de...   \n",
            "\n",
            "                                     en_descriptions  \\\n",
            "0  This film is the next episode of the virtual c...   \n",
            "1  \"You can adjust the video playback speed\"\\n\\nM...   \n",
            "2  近 Do you find that a exchange has appeared in ...   \n",
            "3  ・ 00:00 Foreword\\n・ 00:24 How does it happen\\n...   \n",
            "4  \"You can adjust the video playback speed\"\\n\\n・...   \n",
            "\n",
            "                                           en_titles  \\\n",
            "0  Virtual currency fraud means a lot!What should...   \n",
            "1     Earn 1000 times 3 days?How do I play with mys?   \n",
            "2                   [OKX Exchange Complete Teaching]   \n",
            "3  Bitcoin is about to exceed $ 1 million before ...   \n",
            "4    Bitcoin has skyrocketed. Is it a hedging asset?   \n",
            "\n",
            "                                             en_tags  \n",
            "0  ['Virtual currency fraud', 'cryptocurrency fra...  \n",
            "1  ['Grenade grenades',' nft ',' cryptocurrency '...  \n",
            "2                                                NaN  \n",
            "3  ['Grenade grenades',' nft ',' cryptocurrency '...  \n",
            "4  ['Grenade grenades',' nft ',' cryptocurrency '...  \n"
          ]
        }
      ]
    },
    {
      "cell_type": "code",
      "source": [
        "df = df[[\"video_ids\", \"en_descriptions\", \"en_titles\", \"publish_dates\"]]\n",
        "print(df.head())"
      ],
      "metadata": {
        "colab": {
          "base_uri": "https://localhost:8080/"
        },
        "id": "No-JDXe0V0dZ",
        "outputId": "0633131f-9561-465b-9c9f-f7ab7dde9798"
      },
      "execution_count": 7,
      "outputs": [
        {
          "output_type": "stream",
          "name": "stdout",
          "text": [
            "     video_ids                                    en_descriptions  \\\n",
            "0  JRfDLzLNVNg  This film is the next episode of the virtual c...   \n",
            "1  e1QSIrXcDwo  \"You can adjust the video playback speed\"\\n\\nM...   \n",
            "2  hgc_8Vkw4_U  近 Do you find that a exchange has appeared in ...   \n",
            "3  hzVDiif7Of4  ・ 00:00 Foreword\\n・ 00:24 How does it happen\\n...   \n",
            "4  GjnhyCtJq7o  \"You can adjust the video playback speed\"\\n\\n・...   \n",
            "\n",
            "                                           en_titles         publish_dates  \n",
            "0  Virtual currency fraud means a lot!What should...  2023-09-21T11:00:08Z  \n",
            "1     Earn 1000 times 3 days?How do I play with mys?  2023-04-22T13:48:31Z  \n",
            "2                   [OKX Exchange Complete Teaching]  2023-04-16T12:15:05Z  \n",
            "3  Bitcoin is about to exceed $ 1 million before ...  2023-03-29T12:00:11Z  \n",
            "4    Bitcoin has skyrocketed. Is it a hedging asset?  2023-03-27T04:00:07Z  \n"
          ]
        }
      ]
    },
    {
      "cell_type": "code",
      "source": [
        "df.to_csv('edited Main_translation_database.csv', index=False)"
      ],
      "metadata": {
        "id": "Q5HCNFysrHtf"
      },
      "execution_count": 9,
      "outputs": []
    },
    {
      "cell_type": "code",
      "execution_count": 10,
      "metadata": {
        "id": "cT2HRVJ1kCCr"
      },
      "outputs": [],
      "source": [
        "import csv\n",
        "\n",
        "# Load sample data\n",
        "with open('edited Main_translation_database.csv') as file:\n",
        "    lines = csv.reader(file)\n",
        "\n",
        "    # Store the translated descriptions in this array.\n",
        "    documents = []\n",
        "\n",
        "    # Store the corresponding IDs, channel names, date in this array.\n",
        "    metadatas = []\n",
        "\n",
        "    # Start id=1 and increments it.\n",
        "    ids = []\n",
        "    id = 1\n",
        "\n",
        "    # Loop through each line and populate the 3 arrays.\n",
        "    for i, line in enumerate(lines):\n",
        "        if i==0:\n",
        "            # Skip the first row\n",
        "            continue\n",
        "\n",
        "        documents.append(line[1])\n",
        "        metadata = {\"video_ids\": line[0], \"titles\": line[0], \"publish_dates\": line[0]}\n",
        "        metadatas.append(metadata)\n",
        "        ids.append(str(id))\n",
        "        id+=1"
      ]
    },
    {
      "cell_type": "code",
      "source": [
        "# Install chromadb\n",
        "%pip install chromadb\n",
        "\n",
        "# Install sentence transformers\n",
        "# This is used to convert text to vector embedding.\n",
        "%pip install -U sentence-transformers"
      ],
      "metadata": {
        "id": "hfH9SR4NkW2_",
        "colab": {
          "base_uri": "https://localhost:8080/"
        },
        "outputId": "038afa1f-f0c8-4eab-f16f-76f63eb6a631"
      },
      "execution_count": 11,
      "outputs": [
        {
          "output_type": "stream",
          "name": "stdout",
          "text": [
            "Requirement already satisfied: chromadb in /usr/local/lib/python3.10/dist-packages (0.4.18)\n",
            "Requirement already satisfied: requests>=2.28 in /usr/local/lib/python3.10/dist-packages (from chromadb) (2.31.0)\n",
            "Requirement already satisfied: pydantic>=1.9 in /usr/local/lib/python3.10/dist-packages (from chromadb) (1.10.13)\n",
            "Requirement already satisfied: chroma-hnswlib==0.7.3 in /usr/local/lib/python3.10/dist-packages (from chromadb) (0.7.3)\n",
            "Requirement already satisfied: fastapi>=0.95.2 in /usr/local/lib/python3.10/dist-packages (from chromadb) (0.104.1)\n",
            "Requirement already satisfied: uvicorn[standard]>=0.18.3 in /usr/local/lib/python3.10/dist-packages (from chromadb) (0.24.0.post1)\n",
            "Requirement already satisfied: posthog>=2.4.0 in /usr/local/lib/python3.10/dist-packages (from chromadb) (3.0.2)\n",
            "Requirement already satisfied: typing-extensions>=4.5.0 in /usr/local/lib/python3.10/dist-packages (from chromadb) (4.8.0)\n",
            "Requirement already satisfied: pulsar-client>=3.1.0 in /usr/local/lib/python3.10/dist-packages (from chromadb) (3.3.0)\n",
            "Requirement already satisfied: onnxruntime>=1.14.1 in /usr/local/lib/python3.10/dist-packages (from chromadb) (1.16.3)\n",
            "Requirement already satisfied: opentelemetry-api>=1.2.0 in /usr/local/lib/python3.10/dist-packages (from chromadb) (1.21.0)\n",
            "Requirement already satisfied: opentelemetry-exporter-otlp-proto-grpc>=1.2.0 in /usr/local/lib/python3.10/dist-packages (from chromadb) (1.21.0)\n",
            "Requirement already satisfied: opentelemetry-instrumentation-fastapi>=0.41b0 in /usr/local/lib/python3.10/dist-packages (from chromadb) (0.42b0)\n",
            "Requirement already satisfied: opentelemetry-sdk>=1.2.0 in /usr/local/lib/python3.10/dist-packages (from chromadb) (1.21.0)\n",
            "Requirement already satisfied: tokenizers>=0.13.2 in /usr/local/lib/python3.10/dist-packages (from chromadb) (0.15.0)\n",
            "Requirement already satisfied: pypika>=0.48.9 in /usr/local/lib/python3.10/dist-packages (from chromadb) (0.48.9)\n",
            "Requirement already satisfied: tqdm>=4.65.0 in /usr/local/lib/python3.10/dist-packages (from chromadb) (4.66.1)\n",
            "Requirement already satisfied: overrides>=7.3.1 in /usr/local/lib/python3.10/dist-packages (from chromadb) (7.4.0)\n",
            "Requirement already satisfied: importlib-resources in /usr/local/lib/python3.10/dist-packages (from chromadb) (6.1.1)\n",
            "Requirement already satisfied: grpcio>=1.58.0 in /usr/local/lib/python3.10/dist-packages (from chromadb) (1.59.3)\n",
            "Requirement already satisfied: bcrypt>=4.0.1 in /usr/local/lib/python3.10/dist-packages (from chromadb) (4.1.1)\n",
            "Requirement already satisfied: typer>=0.9.0 in /usr/local/lib/python3.10/dist-packages (from chromadb) (0.9.0)\n",
            "Requirement already satisfied: kubernetes>=28.1.0 in /usr/local/lib/python3.10/dist-packages (from chromadb) (28.1.0)\n",
            "Requirement already satisfied: tenacity>=8.2.3 in /usr/local/lib/python3.10/dist-packages (from chromadb) (8.2.3)\n",
            "Requirement already satisfied: PyYAML>=6.0.0 in /usr/local/lib/python3.10/dist-packages (from chromadb) (6.0.1)\n",
            "Requirement already satisfied: mmh3>=4.0.1 in /usr/local/lib/python3.10/dist-packages (from chromadb) (4.0.1)\n",
            "Requirement already satisfied: numpy>=1.22.5 in /usr/local/lib/python3.10/dist-packages (from chromadb) (1.23.5)\n",
            "Requirement already satisfied: anyio<4.0.0,>=3.7.1 in /usr/local/lib/python3.10/dist-packages (from fastapi>=0.95.2->chromadb) (3.7.1)\n",
            "Requirement already satisfied: starlette<0.28.0,>=0.27.0 in /usr/local/lib/python3.10/dist-packages (from fastapi>=0.95.2->chromadb) (0.27.0)\n",
            "Requirement already satisfied: certifi>=14.05.14 in /usr/local/lib/python3.10/dist-packages (from kubernetes>=28.1.0->chromadb) (2023.11.17)\n",
            "Requirement already satisfied: six>=1.9.0 in /usr/local/lib/python3.10/dist-packages (from kubernetes>=28.1.0->chromadb) (1.16.0)\n",
            "Requirement already satisfied: python-dateutil>=2.5.3 in /usr/local/lib/python3.10/dist-packages (from kubernetes>=28.1.0->chromadb) (2.8.2)\n",
            "Requirement already satisfied: google-auth>=1.0.1 in /usr/local/lib/python3.10/dist-packages (from kubernetes>=28.1.0->chromadb) (2.17.3)\n",
            "Requirement already satisfied: websocket-client!=0.40.0,!=0.41.*,!=0.42.*,>=0.32.0 in /usr/local/lib/python3.10/dist-packages (from kubernetes>=28.1.0->chromadb) (1.6.4)\n",
            "Requirement already satisfied: requests-oauthlib in /usr/local/lib/python3.10/dist-packages (from kubernetes>=28.1.0->chromadb) (1.3.1)\n",
            "Requirement already satisfied: oauthlib>=3.2.2 in /usr/local/lib/python3.10/dist-packages (from kubernetes>=28.1.0->chromadb) (3.2.2)\n",
            "Requirement already satisfied: urllib3<2.0,>=1.24.2 in /usr/local/lib/python3.10/dist-packages (from kubernetes>=28.1.0->chromadb) (1.26.18)\n",
            "Requirement already satisfied: coloredlogs in /usr/local/lib/python3.10/dist-packages (from onnxruntime>=1.14.1->chromadb) (15.0.1)\n",
            "Requirement already satisfied: flatbuffers in /usr/local/lib/python3.10/dist-packages (from onnxruntime>=1.14.1->chromadb) (23.5.26)\n",
            "Requirement already satisfied: packaging in /usr/local/lib/python3.10/dist-packages (from onnxruntime>=1.14.1->chromadb) (23.2)\n",
            "Requirement already satisfied: protobuf in /usr/local/lib/python3.10/dist-packages (from onnxruntime>=1.14.1->chromadb) (3.20.3)\n",
            "Requirement already satisfied: sympy in /usr/local/lib/python3.10/dist-packages (from onnxruntime>=1.14.1->chromadb) (1.12)\n",
            "Requirement already satisfied: deprecated>=1.2.6 in /usr/local/lib/python3.10/dist-packages (from opentelemetry-api>=1.2.0->chromadb) (1.2.14)\n",
            "Requirement already satisfied: importlib-metadata<7.0,>=6.0 in /usr/local/lib/python3.10/dist-packages (from opentelemetry-api>=1.2.0->chromadb) (6.8.0)\n",
            "Requirement already satisfied: backoff<3.0.0,>=1.10.0 in /usr/local/lib/python3.10/dist-packages (from opentelemetry-exporter-otlp-proto-grpc>=1.2.0->chromadb) (2.2.1)\n",
            "Requirement already satisfied: googleapis-common-protos~=1.52 in /usr/local/lib/python3.10/dist-packages (from opentelemetry-exporter-otlp-proto-grpc>=1.2.0->chromadb) (1.61.0)\n",
            "Requirement already satisfied: opentelemetry-exporter-otlp-proto-common==1.21.0 in /usr/local/lib/python3.10/dist-packages (from opentelemetry-exporter-otlp-proto-grpc>=1.2.0->chromadb) (1.21.0)\n",
            "Requirement already satisfied: opentelemetry-proto==1.21.0 in /usr/local/lib/python3.10/dist-packages (from opentelemetry-exporter-otlp-proto-grpc>=1.2.0->chromadb) (1.21.0)\n",
            "Requirement already satisfied: opentelemetry-instrumentation-asgi==0.42b0 in /usr/local/lib/python3.10/dist-packages (from opentelemetry-instrumentation-fastapi>=0.41b0->chromadb) (0.42b0)\n",
            "Requirement already satisfied: opentelemetry-instrumentation==0.42b0 in /usr/local/lib/python3.10/dist-packages (from opentelemetry-instrumentation-fastapi>=0.41b0->chromadb) (0.42b0)\n",
            "Requirement already satisfied: opentelemetry-semantic-conventions==0.42b0 in /usr/local/lib/python3.10/dist-packages (from opentelemetry-instrumentation-fastapi>=0.41b0->chromadb) (0.42b0)\n",
            "Requirement already satisfied: opentelemetry-util-http==0.42b0 in /usr/local/lib/python3.10/dist-packages (from opentelemetry-instrumentation-fastapi>=0.41b0->chromadb) (0.42b0)\n",
            "Requirement already satisfied: setuptools>=16.0 in /usr/local/lib/python3.10/dist-packages (from opentelemetry-instrumentation==0.42b0->opentelemetry-instrumentation-fastapi>=0.41b0->chromadb) (67.7.2)\n",
            "Requirement already satisfied: wrapt<2.0.0,>=1.0.0 in /usr/local/lib/python3.10/dist-packages (from opentelemetry-instrumentation==0.42b0->opentelemetry-instrumentation-fastapi>=0.41b0->chromadb) (1.14.1)\n",
            "Requirement already satisfied: asgiref~=3.0 in /usr/local/lib/python3.10/dist-packages (from opentelemetry-instrumentation-asgi==0.42b0->opentelemetry-instrumentation-fastapi>=0.41b0->chromadb) (3.7.2)\n",
            "Requirement already satisfied: monotonic>=1.5 in /usr/local/lib/python3.10/dist-packages (from posthog>=2.4.0->chromadb) (1.6)\n",
            "Requirement already satisfied: charset-normalizer<4,>=2 in /usr/local/lib/python3.10/dist-packages (from requests>=2.28->chromadb) (3.3.2)\n",
            "Requirement already satisfied: idna<4,>=2.5 in /usr/local/lib/python3.10/dist-packages (from requests>=2.28->chromadb) (3.6)\n",
            "Requirement already satisfied: huggingface_hub<1.0,>=0.16.4 in /usr/local/lib/python3.10/dist-packages (from tokenizers>=0.13.2->chromadb) (0.19.4)\n",
            "Requirement already satisfied: click<9.0.0,>=7.1.1 in /usr/local/lib/python3.10/dist-packages (from typer>=0.9.0->chromadb) (8.1.7)\n",
            "Requirement already satisfied: h11>=0.8 in /usr/local/lib/python3.10/dist-packages (from uvicorn[standard]>=0.18.3->chromadb) (0.14.0)\n",
            "Requirement already satisfied: httptools>=0.5.0 in /usr/local/lib/python3.10/dist-packages (from uvicorn[standard]>=0.18.3->chromadb) (0.6.1)\n",
            "Requirement already satisfied: python-dotenv>=0.13 in /usr/local/lib/python3.10/dist-packages (from uvicorn[standard]>=0.18.3->chromadb) (1.0.0)\n",
            "Requirement already satisfied: uvloop!=0.15.0,!=0.15.1,>=0.14.0 in /usr/local/lib/python3.10/dist-packages (from uvicorn[standard]>=0.18.3->chromadb) (0.19.0)\n",
            "Requirement already satisfied: watchfiles>=0.13 in /usr/local/lib/python3.10/dist-packages (from uvicorn[standard]>=0.18.3->chromadb) (0.21.0)\n",
            "Requirement already satisfied: websockets>=10.4 in /usr/local/lib/python3.10/dist-packages (from uvicorn[standard]>=0.18.3->chromadb) (12.0)\n",
            "Requirement already satisfied: sniffio>=1.1 in /usr/local/lib/python3.10/dist-packages (from anyio<4.0.0,>=3.7.1->fastapi>=0.95.2->chromadb) (1.3.0)\n",
            "Requirement already satisfied: exceptiongroup in /usr/local/lib/python3.10/dist-packages (from anyio<4.0.0,>=3.7.1->fastapi>=0.95.2->chromadb) (1.2.0)\n",
            "Requirement already satisfied: cachetools<6.0,>=2.0.0 in /usr/local/lib/python3.10/dist-packages (from google-auth>=1.0.1->kubernetes>=28.1.0->chromadb) (5.3.2)\n",
            "Requirement already satisfied: pyasn1-modules>=0.2.1 in /usr/local/lib/python3.10/dist-packages (from google-auth>=1.0.1->kubernetes>=28.1.0->chromadb) (0.3.0)\n",
            "Requirement already satisfied: rsa<5,>=3.1.4 in /usr/local/lib/python3.10/dist-packages (from google-auth>=1.0.1->kubernetes>=28.1.0->chromadb) (4.9)\n",
            "Requirement already satisfied: filelock in /usr/local/lib/python3.10/dist-packages (from huggingface_hub<1.0,>=0.16.4->tokenizers>=0.13.2->chromadb) (3.13.1)\n",
            "Requirement already satisfied: fsspec>=2023.5.0 in /usr/local/lib/python3.10/dist-packages (from huggingface_hub<1.0,>=0.16.4->tokenizers>=0.13.2->chromadb) (2023.6.0)\n",
            "Requirement already satisfied: zipp>=0.5 in /usr/local/lib/python3.10/dist-packages (from importlib-metadata<7.0,>=6.0->opentelemetry-api>=1.2.0->chromadb) (3.17.0)\n",
            "Requirement already satisfied: humanfriendly>=9.1 in /usr/local/lib/python3.10/dist-packages (from coloredlogs->onnxruntime>=1.14.1->chromadb) (10.0)\n",
            "Requirement already satisfied: mpmath>=0.19 in /usr/local/lib/python3.10/dist-packages (from sympy->onnxruntime>=1.14.1->chromadb) (1.3.0)\n",
            "Requirement already satisfied: pyasn1<0.6.0,>=0.4.6 in /usr/local/lib/python3.10/dist-packages (from pyasn1-modules>=0.2.1->google-auth>=1.0.1->kubernetes>=28.1.0->chromadb) (0.5.1)\n",
            "Requirement already satisfied: sentence-transformers in /usr/local/lib/python3.10/dist-packages (2.2.2)\n",
            "Requirement already satisfied: transformers<5.0.0,>=4.6.0 in /usr/local/lib/python3.10/dist-packages (from sentence-transformers) (4.35.2)\n",
            "Requirement already satisfied: tqdm in /usr/local/lib/python3.10/dist-packages (from sentence-transformers) (4.66.1)\n",
            "Requirement already satisfied: torch>=1.6.0 in /usr/local/lib/python3.10/dist-packages (from sentence-transformers) (2.1.0+cu118)\n",
            "Requirement already satisfied: torchvision in /usr/local/lib/python3.10/dist-packages (from sentence-transformers) (0.16.0+cu118)\n",
            "Requirement already satisfied: numpy in /usr/local/lib/python3.10/dist-packages (from sentence-transformers) (1.23.5)\n",
            "Requirement already satisfied: scikit-learn in /usr/local/lib/python3.10/dist-packages (from sentence-transformers) (1.2.2)\n",
            "Requirement already satisfied: scipy in /usr/local/lib/python3.10/dist-packages (from sentence-transformers) (1.11.4)\n",
            "Requirement already satisfied: nltk in /usr/local/lib/python3.10/dist-packages (from sentence-transformers) (3.8.1)\n",
            "Requirement already satisfied: sentencepiece in /usr/local/lib/python3.10/dist-packages (from sentence-transformers) (0.1.99)\n",
            "Requirement already satisfied: huggingface-hub>=0.4.0 in /usr/local/lib/python3.10/dist-packages (from sentence-transformers) (0.19.4)\n",
            "Requirement already satisfied: filelock in /usr/local/lib/python3.10/dist-packages (from huggingface-hub>=0.4.0->sentence-transformers) (3.13.1)\n",
            "Requirement already satisfied: fsspec>=2023.5.0 in /usr/local/lib/python3.10/dist-packages (from huggingface-hub>=0.4.0->sentence-transformers) (2023.6.0)\n",
            "Requirement already satisfied: requests in /usr/local/lib/python3.10/dist-packages (from huggingface-hub>=0.4.0->sentence-transformers) (2.31.0)\n",
            "Requirement already satisfied: pyyaml>=5.1 in /usr/local/lib/python3.10/dist-packages (from huggingface-hub>=0.4.0->sentence-transformers) (6.0.1)\n",
            "Requirement already satisfied: typing-extensions>=3.7.4.3 in /usr/local/lib/python3.10/dist-packages (from huggingface-hub>=0.4.0->sentence-transformers) (4.8.0)\n",
            "Requirement already satisfied: packaging>=20.9 in /usr/local/lib/python3.10/dist-packages (from huggingface-hub>=0.4.0->sentence-transformers) (23.2)\n",
            "Requirement already satisfied: sympy in /usr/local/lib/python3.10/dist-packages (from torch>=1.6.0->sentence-transformers) (1.12)\n",
            "Requirement already satisfied: networkx in /usr/local/lib/python3.10/dist-packages (from torch>=1.6.0->sentence-transformers) (3.2.1)\n",
            "Requirement already satisfied: jinja2 in /usr/local/lib/python3.10/dist-packages (from torch>=1.6.0->sentence-transformers) (3.1.2)\n",
            "Requirement already satisfied: triton==2.1.0 in /usr/local/lib/python3.10/dist-packages (from torch>=1.6.0->sentence-transformers) (2.1.0)\n",
            "Requirement already satisfied: regex!=2019.12.17 in /usr/local/lib/python3.10/dist-packages (from transformers<5.0.0,>=4.6.0->sentence-transformers) (2023.6.3)\n",
            "Requirement already satisfied: tokenizers<0.19,>=0.14 in /usr/local/lib/python3.10/dist-packages (from transformers<5.0.0,>=4.6.0->sentence-transformers) (0.15.0)\n",
            "Requirement already satisfied: safetensors>=0.3.1 in /usr/local/lib/python3.10/dist-packages (from transformers<5.0.0,>=4.6.0->sentence-transformers) (0.4.1)\n",
            "Requirement already satisfied: click in /usr/local/lib/python3.10/dist-packages (from nltk->sentence-transformers) (8.1.7)\n",
            "Requirement already satisfied: joblib in /usr/local/lib/python3.10/dist-packages (from nltk->sentence-transformers) (1.3.2)\n",
            "Requirement already satisfied: threadpoolctl>=2.0.0 in /usr/local/lib/python3.10/dist-packages (from scikit-learn->sentence-transformers) (3.2.0)\n",
            "Requirement already satisfied: pillow!=8.3.*,>=5.3.0 in /usr/local/lib/python3.10/dist-packages (from torchvision->sentence-transformers) (9.4.0)\n",
            "Requirement already satisfied: MarkupSafe>=2.0 in /usr/local/lib/python3.10/dist-packages (from jinja2->torch>=1.6.0->sentence-transformers) (2.1.3)\n",
            "Requirement already satisfied: charset-normalizer<4,>=2 in /usr/local/lib/python3.10/dist-packages (from requests->huggingface-hub>=0.4.0->sentence-transformers) (3.3.2)\n",
            "Requirement already satisfied: idna<4,>=2.5 in /usr/local/lib/python3.10/dist-packages (from requests->huggingface-hub>=0.4.0->sentence-transformers) (3.6)\n",
            "Requirement already satisfied: urllib3<3,>=1.21.1 in /usr/local/lib/python3.10/dist-packages (from requests->huggingface-hub>=0.4.0->sentence-transformers) (1.26.18)\n",
            "Requirement already satisfied: certifi>=2017.4.17 in /usr/local/lib/python3.10/dist-packages (from requests->huggingface-hub>=0.4.0->sentence-transformers) (2023.11.17)\n",
            "Requirement already satisfied: mpmath>=0.19 in /usr/local/lib/python3.10/dist-packages (from sympy->torch>=1.6.0->sentence-transformers) (1.3.0)\n"
          ]
        }
      ]
    },
    {
      "cell_type": "code",
      "source": [
        "import chromadb\n",
        "from chromadb.utils import embedding_functions\n",
        "\n",
        "# Instantiate chromadb instance. Data is stored in memory only.\n",
        "chroma_client = chromadb.Client()"
      ],
      "metadata": {
        "id": "YjpVyz-8kW5c"
      },
      "execution_count": 12,
      "outputs": []
    },
    {
      "cell_type": "code",
      "source": [
        "# Select the embedding model to use.\n",
        "sentence_transformer_ef = embedding_functions.SentenceTransformerEmbeddingFunction(model_name=\"all-mpnet-base-v2\")\n",
        "\n",
        "# Create the collection\n",
        "collection = chroma_client.get_or_create_collection(name=\"my_collection\", embedding_function=sentence_transformer_ef)"
      ],
      "metadata": {
        "id": "wV2LiknMniTO"
      },
      "execution_count": 13,
      "outputs": []
    },
    {
      "cell_type": "code",
      "source": [
        "# Add all the data to the vector database.\n",
        "collection.add(\n",
        "    documents=documents,\n",
        "    metadatas=metadatas,\n",
        "    ids=ids\n",
        ")"
      ],
      "metadata": {
        "id": "bmc6aUhYnykW"
      },
      "execution_count": 14,
      "outputs": []
    },
    {
      "cell_type": "code",
      "source": [
        "# Query the vector database\n",
        "\n",
        "results = collection.query(\n",
        "    query_texts=[\"bitcoin\"],\n",
        "    n_results=5 ,\n",
        "    include=['documents', 'distances', 'metadatas']\n",
        ")\n",
        "print(results['documents'])\n"
      ],
      "metadata": {
        "colab": {
          "base_uri": "https://localhost:8080/"
        },
        "id": "6kdGxKWwn4wh",
        "outputId": "88eb82fa-e5ae-4fbd-a020-ed3424514276"
      },
      "execution_count": 15,
      "outputs": [
        {
          "output_type": "stream",
          "name": "stdout",
          "text": [
            "[['\"You can adjust the video playback speed\"\\n\\n・ 00:45 Foreword\\n・ 00:30 What is Bitcoin\\n・ 01:19 Definition of insurance assets\\n・ 02:02 Bitcoin becomes the advantage of risk aversion assets\\n・ 03:06 Bitcoin becomes the disadvantage of risk aversion assets\\n・ Is there a chance to become a shelter asset at 05:39 Bitcoin?\\n\\nIs Bitcoin a safe -haven asset?Bleak\\n\\nRecently, when the Bank of America\\'s stock exploded, Bitcoin rose dozens of percentage points against the time and fell below everyone\\'s glasses. Therefore, in this film, we will explore the characteristics of Bitcoin, the advantages and disadvantages of assets, and the differences between Bitcoin and gold.\\n\\n化️ Features: decentralization, anti -inflation, anonymity, high liquidity\\n性️ Controversy: volatility, safety risks, unclear regulations\\nRemarks: This film does not constitute investment suggestions. Please be careful about virtual currency fluctuations\\n\\nBleak\\n\\nCryptocurrency exchange\\n\\nBybit: https: //bit.ly/3kuuon4 (novice storage value gift)\\nOKX Exchange: https://bit.ly/3ziant9 (exclusive blind box reward)\\nBinance: https: //bit.ly/3cqvozz (20% of the fees for a lifetime)\\nMAX: https: //bit.ly/3hwb95k (20% of the fees discount within 6 months)\\n\\nTake you to understand Bitcoin in 3 minutes. What are the virtual currency transactions?\\nhttps://www.grenade.tw/blog/how-buy-cryptocurrency/\\nBleak\\nGrenade currency circle information discussion community\\n・ Instagram: https://www.instagram.com/grenade.tw/\\n・ LINE: https://bit.ly/3n7cl1a\\n・ Telegram: https://t.me/grenadetw\\n・ The rest of the community channel: https://linktr.ee/grenade.tw\\n\\n\\nPraise × Subscribe to × Share × Open a small bell\\nGrenade grenade, accompany you to embrace the new world\\nhttps://reurl.cc/n0amql\\n\\n\\nThe Grenade Lab grenades were established in 2019 to be the best bridge between projects and communities in the blockchain industry.As a one -stop public relations company, our services cover the media, content production, advertising marketing, event planning and execution, community operations, public relations consultants, etc. Those who provide the most valuable and diverse information and resources.\\n\\n\\nPlease send a letter to info@grenade.tw\\n\\n\\n#Grenade grenades#nft#cryptocurrency#cryptocurrency exchange#virtual currency exchanges#Bitcoin exchanges##How to buy#How to buy Bitcoin#How to buy encrypted currency? ##Stocks####', 'The idea of \\u200b\\u200bBitcoin originated from an 2008 paper, which is signed by the author\\'s signature of \"Satoshi Nakamoto\". Although the current identity is still unknown, its blockchain concept has changed modern currency, business and world.In March 2021, the price of Bitcoin exceeded the $ 63,000 mark, and the total market value surpassed Tesla (TSLA). ) And Goldman Sachs (GS) has also begun to get involved in this field, and related stocks and ETFs have emerged. More and more people have invested in investment, and the transaction volume has repeatedly reached a record high. Various signs have shown that Bitcoin has gradually entered the mainstream.\\n\\nDespite this, there are still not many people who are familiar with their concepts and principles, so we will disassemble the concepts of mining, miners and mines behind Bitcoin with unknown texts. The order of the order knows the new.\\n\\n00:00 Introduction\\n00:58 Bridge Water Fund founder Ray Dalio: Ning British Bitcoin non -holding bonds\\n02:09 Bitcoin\\'s market value and price trend in recent years\\n02:55 What is Bitcoin?Why does it appear?\\n04:49 What is the current situation of Bitcoin?\\n06:41 How does the technical principle of Bitcoin operate?\\n07:46 What are Bitcoin mining, miners and mine?\\n09:46 Bitcoin\\'s investment value and prospects\\n13:19 What is the Bitcoin Bakery Day?\\n\\nVideo Date: May 25, 2021 (Two)\\n\\nRelated videos\\nBitcoin, Ethereum plummeted integration of crude currency city information and historical analysis caused by the collapse of the collapse\\nhttps://youtu.be/ghkufflmofte\\n\\nLooking back at Shi Fu Bitcoin Teaching Film: How is the inventor Nakamoto Wallet held the number of Bitcoin?\\nhttps://youtu.be/txn0fne96Li\\n\\nAppreciation potential comparable to the platform currency FTT of the coin (BNB)\\nhttps://youtu.be/91xq0mx9fse\\n\\n#Bitcoin #Bitcoin #What is Bitcoin?\\n\\n\"Disclaimer: The content and viewpoint of this film are reference and do not constitute investment suggestions.\\n_____________________________________________________\\n【Binance Teaching】\\nBinance Exchange (Binance) exclusive 20 % permanent transaction discount code (W4MX4PT8)\\nApply for teleportation door: https://bit.ly/40ynwgw\\n\\nTeaching of Binance Account Opening Film: Enjoy a 20 % permanent transaction fee discount at 3 minutes to open an account\\nhttps://youtu.be/boliawwetca\\n______________________________________________________\\n[Bybit exclusive discount and teaching]\\nAfter registering through the following link or discount code [21515], you can enjoy exclusive discounts!\\nApply for teleportation door: https://bit.ly/3lxuwel\\n\\nBYBIT account opening, in -gold teaching\\nhttps://youtu.be/zciikywdhik\\n______________________________________________________\\nNovice must watch videos 看\\nThe full list 🚀 https://www.youtube.com/playList?List=Plde-A4CMIDUNVUYF_KWBQ0INSDFOO2Re\\n\\nThe most comprehensive virtual currency teaching 拟 buy coins 👉🏻 analysis trend 👉🏻 make money\\nhttps://youtu.be/kujvfjkqga4\\n\\nDEFI Ethereum Wallet Metamask hand handle handle\\nhttps://youtu.be/yomwt2rsi1y\\n\\n0 failure cryptocurrency transfer teaching 🔁\\nhttps://youtu.be/4f3da5zjhme\\n\\nLearn TradingView from scratch ｜ Essentials of stock speculation stocks 🔥\\nhttps://youtu.be/0v-bkbjaqzm\\n______________________\\nSubscribe to my channel and find more opportunities in the web3 world.\\nRemember to press the little bell 不 and don\\'t miss any important information!\"', '0:00 The third country that regards Bitcoin as a legal currency -Argentina\\n4:06 Bitcoin halve the countdown\\n5:56 ARK Fund Bitcoin spot ETF\\n9:13 Bitcoin CME GAP Futures vacancy\\n11:19 About short -term\\n12:58 The U.S. government and the Binance request 4 Billion fines? (Or protection fee?)\\n14:31 SAM Altman Openai Microsoft\\n\\nThe blockchain day newspaper is a channel to update the cryptocurrency Bitcoin and blockchain news every day from Monday to Friday, so that more friends who speak Chinese can get the first time of information\\n\\nThe introduction of one or two episodes of the blockchain will be added from time to time every week.\\n\\nThis channel is just sharing personal investment strategies and mentality does not mean that any investment proposal to invest in risks must be cautious\\n\\nI hope you will like it\\n\\nLedger cold wallet purchase link, through my connection, you can invite me to drink cup of milk tea: https://shop.ledger.com/?r=43753d7b5019\\n\\nThe first part of the most important film in 2022: Four investment mentality focuses on the key ten years: https://www.youtube.com/watch?v=vl2dswl88no&t=372s&ab_Channel=%E5%80%E5%A1%8A %E9%8F%88%E6%97%A5%E5%A0%B1\\n\\nThe second most important film in 2022: Regularly invest in DCA DOLLAR COST AVERAGE: https://www.youtube.com/watch?v=kouvgwkbz08&AB_CHANNEL=P %E6%97%A5%E5%A0%B1\\n\\nThe third most important film in 2022: Bitcoin investment strategy 2023 2024 2025: https://www.youtube.com/watch?v=fiavgceebva&ab_channel=%E5%80%88A1%8AP%E9%8F% 88%E6%97%A5%E5%A0%B1\\n\\nIntroduction to Bitcoin: https://www.youtube.com/watch?v=ogRMD_H1EQ8&88_CHannel=%E5%80%8P\\n\\nCardano Ada Kadano Aida Introduction: https://www.youtube.com/watch?v=m0Afotnhbrg&T=40s&ab_channel=%E5%80%A1%8A19%8888%977797 %A5%E5%A0%B1\\n\\nCardano POS pledge teaching: https://www.youtube.com/watch?v=g_nenjr7oaaaaaaaaaaaaaaaaaaaaaaaaaaaaaaaaaaaaaaaaaaaaaaaaaaaaaaaaaaaaaaaaaaaaaaaaaaaaaaaaaaaaaaaaaaaaaaaaaaaaaaaaaaaaaaaaaaaaaaaaaaaaaaaaaaaaaaaaaaaaaaaaaaaaaaaaaaaaaaaaaaaaq\\n\\nIntroduction to Ether 2.0: https://www.youtube.com/watch?v=xm7ldkyzxpc&T=4s&ab_channel=%E5%80%8A1%8A19%888%97%A5%A0a0a0 %B1\\n\\nMichael Saylor Introduction: https://www.youtube.com/watch?v=crsu1fa8bdc&t=19s&ab_Channel=%E5%8D%8A1P %B1\\n\\nJack dorsey Introduction: https://www.youtube.com/watch?v=a-tcrs4drqe&t=347s&AB_CHANNEL=P %A0%B1\\n\\nDCA strategy introduction: https://www.youtube.com/watch?v=fykh4SCUZUQ&T=10S&AB_CHANNEL=P %B1\\n\\nActive DCA strategy introduction: https://www.youtube.com/watch?v=tu2x7rha044444444444444444444444444444444444444444444444444444444444444444444444444444444444444444444444444444444444444444444444444444444444444 A0%B1\\n\\nMy investment portfolio Introduction: https://www.youtube.com/watch?v=eydvpybdoig&ab_channel=%E5%8D%80%E5%A1%8A19%8888%97%E5%A0 %B1\\n\\nIntroduction to Cold Wallet: https://www.youtube.com/watch?v=cg92zkzitpi&FEATUR %A0%B1\\n\\n#Virtual currency # #ComparisonCoin #特 特 #特 #特 #特 #Blockchain #Investment #特', '0:00 Bitcoin 1 million is not Dream Millennials Our era!\\n5:33 Bitcoin trend\\n6:19 Bitcoin spot ETF is about to come out? Market value VS. Circus\\n10:34 Elizabeth Warran\\n12:34 Korean SKT layout cryptocurrency wallet\\n13:30 bayc boring ape yuga lab\\n\\nThe blockchain day newspaper is a channel to update the cryptocurrency Bitcoin and blockchain news every day from Monday to Friday, so that more friends who speak Chinese can get the first time of information\\n\\nThe introduction of one or two episodes of the blockchain will be added from time to time every week.\\n\\nThis channel is just sharing personal investment strategies and mentality does not mean that any investment proposal to invest in risks must be cautious\\n\\nI hope you will like it\\n\\nLedger cold wallet purchase link, through my connection, you can invite me to drink cup of milk tea: https://shop.ledger.com/?r=43753d7b5019\\n\\nThe first part of the most important film in 2022: Four investment mentality focuses on the key ten years: https://www.youtube.com/watch?v=vl2dswl88no&t=372s&ab_Channel=%E5%80%E5%A1%8A %E9%8F%88%E6%97%A5%E5%A0%B1\\n\\nThe second most important film in 2022: Regularly invest in DCA DOLLAR COST AVERAGE: https://www.youtube.com/watch?v=kouvgwkbz08&AB_CHANNEL=P %E6%97%A5%E5%A0%B1\\n\\nThe third most important film in 2022: Bitcoin investment strategy 2023 2024 2025: https://www.youtube.com/watch?v=fiavgceebva&ab_channel=%E5%80%88A1%8AP%E9%8F% 88%E6%97%A5%E5%A0%B1\\n\\nIntroduction to Bitcoin: https://www.youtube.com/watch?v=ogRMD_H1EQ8&88_CHannel=%E5%80%8P\\n\\nCardano Ada Kadano Aida Introduction: https://www.youtube.com/watch?v=m0Afotnhbrg&T=40s&ab_channel=%E5%80%A1%8A19%8888%977797 %A5%E5%A0%B1\\n\\nCardano POS pledge teaching: https://www.youtube.com/watch?v=g_nenjr7oaaaaaaaaaaaaaaaaaaaaaaaaaaaaaaaaaaaaaaaaaaaaaaaaaaaaaaaaaaaaaaaaaaaaaaaaaaaaaaaaaaaaaaaaaaaaaaaaaaaaaaaaaaaaaaaaaaaaaaaaaaaaaaaaaaaaaaaaaaaaaaaaaaaaaaaaaaaaaaaaaaaaq\\n\\nIntroduction to Ether 2.0: https://www.youtube.com/watch?v=xm7ldkyzxpc&T=4s&ab_channel=%E5%80%8A1%8A19%888%97%A5%A0a0a0 %B1\\n\\nMichael Saylor Introduction: https://www.youtube.com/watch?v=crsu1fa8bdc&t=19s&ab_Channel=%E5%8D%8A1P %B1\\n\\nJack dorsey Introduction: https://www.youtube.com/watch?v=a-tcrs4drqe&t=347s&AB_CHANNEL=P %A0%B1\\n\\nDCA strategy introduction: https://www.youtube.com/watch?v=fykh4SCUZUQ&T=10S&AB_CHANNEL=P %B1\\n\\nActive DCA strategy introduction: https://www.youtube.com/watch?v=tu2x7rha044444444444444444444444444444444444444444444444444444444444444444444444444444444444444444444444444444444444444444444444444444444444444 A0%B1\\n\\nMy investment portfolio Introduction: https://www.youtube.com/watch?v=eydvpybdoig&ab_channel=%E5%8D%80%E5%A1%8A19%8888%97%E5%A0 %B1\\n\\nIntroduction to Cold Wallet: https://www.youtube.com/watch?v=cg92zkzitpi&FEATUR %A0%B1\\n\\n# # #Bitcoin # ## #Blockchain #Investment #Virtual Assets', 'Six characteristics of a million rich man\\n5:12 BNY Mellon New York Bank of Melon to lay out cryptocurrency Bitcoin\\n6:49 Google Google Cloud accepts cryptocurrency payment\\n8:16 Celsius CEO volume runway?\\n9:47 SEC issued a subpoena NFT = Security?\\n11:06 BSC BNB hard fork solve the problem\\n11:48 Bitcoin spot ETF\\n\\nThe blockchain day newspaper is a channel to update the cryptocurrency Bitcoin and blockchain news every day from Monday to Friday, so that more friends who speak Chinese can get the first time of information\\n\\nThe introduction of one or two episodes of the blockchain will be added from time to time every week.\\n\\nThis channel is just sharing personal investment strategies and mentality does not mean that any investment proposal to invest in risks must be cautious\\n\\nI hope you will like it\\n\\nIntroduction to Bitcoin: https://www.youtube.com/watch?v=ogRMD_H1EQ8&88_CHannel=%E5%80%8P\\n\\nCardano Ada Kadano Aida Introduction: https://www.youtube.com/watch?v=m0Afotnhbrg&T=40s&ab_channel=%E5%80%A1%8A19%8888%977797 %A5%E5%A0%B1\\n\\nCardano POS pledge teaching: https://www.youtube.com/watch?v=g_nenjr7oaaaaaaaaaaaaaaaaaaaaaaaaaaaaaaaaaaaaaaaaaaaaaaaaaaaaaaaaaaaaaaaaaaaaaaaaaaaaaaaaaaaaaaaaaaaaaaaaaaaaaaaaaaaaaaaaaaaaaaaaaaaaaaaaaaaaaaaaaaaaaaaaaaaaaaaaaaaaaaaaaaaaq\\n\\nIntroduction to Ether 2.0: https://www.youtube.com/watch?v=xm7ldkyzxpc&T=4s&ab_channel=%E5%80%8A1%8A19%888%97%A5%A0a0a0 %B1\\n\\nMichael Saylor Introduction: https://www.youtube.com/watch?v=crsu1fa8bdc&t=19s&ab_Channel=%E5%8D%8A1P %B1\\n\\nJack dorsey Introduction: https://www.youtube.com/watch?v=a-tcrs4drqe&t=347s&AB_CHANNEL=P %A0%B1\\n\\nDCA strategy introduction: https://www.youtube.com/watch?v=fykh4SCUZUQ&T=10S&AB_CHANNEL=P %B1\\n\\nActive DCA strategy introduction: https://www.youtube.com/watch?v=tu2x7rha044444444444444444444444444444444444444444444444444444444444444444444444444444444444444444444444444444444444444444444444444444444444444 A0%B1\\n\\nMy investment portfolio Introduction: https://www.youtube.com/watch?v=eydvpybdoig&ab_channel=%E5%8D%80%E5%A1%8A19%8888%97%E5%A0 %B1\\n\\nIntroduction to Cold Wallet: https://www.youtube.com/watch?v=cg92zkzitpi&FEATUR %A0%B1\\n\\n# # #Bitcoin # # # # #Blockchain #Investment #虚']]\n"
          ]
        }
      ]
    }
  ]
}