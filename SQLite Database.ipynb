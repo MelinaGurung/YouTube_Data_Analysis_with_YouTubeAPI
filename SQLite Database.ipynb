{
 "cells": [
  {
   "cell_type": "code",
   "execution_count": 19,
   "id": "e9eaa042-8723-462e-9c91-35e2d3c268da",
   "metadata": {},
   "outputs": [],
   "source": [
    "import sqlite3\n",
    "import pandas as pd\n",
    "from contextlib import closing"
   ]
  },
  {
   "cell_type": "code",
   "execution_count": 12,
   "id": "79c44438-c546-4ddf-9941-bb1270faaa32",
   "metadata": {},
   "outputs": [],
   "source": [
    "#loading scv file to be uploaded into the database\n",
    "data = pd.read_csv('cleaned up/Main_translated_database.csv')"
   ]
  },
  {
   "cell_type": "code",
   "execution_count": 14,
   "id": "af71930f-959d-491b-bf33-855e500770d4",
   "metadata": {},
   "outputs": [],
   "source": [
    "#creating/connecting to a SQLite database\n",
    "connection = sqlite3.connect(\"video_stats.db\")"
   ]
  },
  {
   "cell_type": "code",
   "execution_count": 16,
   "id": "fe8f4ded-8a98-4ac8-9c58-8e74e54a6fcf",
   "metadata": {},
   "outputs": [
    {
     "data": {
      "text/plain": [
       "1148"
      ]
     },
     "execution_count": 16,
     "metadata": {},
     "output_type": "execute_result"
    }
   ],
   "source": [
    "#loading the csv file into the db\n",
    "data.to_sql('video_details', connection, if_exists = 'replace')"
   ]
  },
  {
   "cell_type": "code",
   "execution_count": 17,
   "id": "7a946dd0-01c0-4b19-b971-a6106bfe9226",
   "metadata": {},
   "outputs": [
    {
     "data": {
      "text/plain": [
       "<function Connection.close()>"
      ]
     },
     "execution_count": 17,
     "metadata": {},
     "output_type": "execute_result"
    }
   ],
   "source": [
    "#closing the connection\n",
    "connection.close"
   ]
  },
  {
   "cell_type": "code",
   "execution_count": 8,
   "id": "447c7f09-11fa-4573-b548-742477442f04",
   "metadata": {},
   "outputs": [],
   "source": [
    "#creating a curs0r\n",
    "cursor = connection.cursor()"
   ]
  },
  {
   "cell_type": "code",
   "execution_count": null,
   "id": "85a0de0b-5c45-42e3-9155-bcff8da0c2da",
   "metadata": {},
   "outputs": [],
   "source": [
    "#creating a table\n",
    "c.execute(\"\"\" CREATE TABLE video_details(\n",
    "         video_ids nteger,\n",
    "         \n",
    ")\n",
    "\n",
    "\"\"\")\n"
   ]
  },
  {
   "cell_type": "code",
   "execution_count": null,
   "id": "8153dc81-622a-4c73-8477-151954699bae",
   "metadata": {},
   "outputs": [],
   "source": []
  },
  {
   "cell_type": "code",
   "execution_count": null,
   "id": "fd0ab2ac-393a-4de8-96c5-324cc0169976",
   "metadata": {},
   "outputs": [],
   "source": []
  },
  {
   "cell_type": "code",
   "execution_count": null,
   "id": "170ce3e8-3c46-4fdc-9a76-55d8abade981",
   "metadata": {},
   "outputs": [],
   "source": []
  },
  {
   "cell_type": "code",
   "execution_count": null,
   "id": "f240dbd0-9c60-43a8-9c1c-19096b139623",
   "metadata": {},
   "outputs": [],
   "source": [
    "#commiting to db"
   ]
  },
  {
   "cell_type": "code",
   "execution_count": null,
   "id": "b9f38246-a250-493d-ae2b-e98c83a64361",
   "metadata": {},
   "outputs": [],
   "source": [
    "#closing the connection"
   ]
  }
 ],
 "metadata": {
  "kernelspec": {
   "display_name": "Python 3 (ipykernel)",
   "language": "python",
   "name": "python3"
  },
  "language_info": {
   "codemirror_mode": {
    "name": "ipython",
    "version": 3
   },
   "file_extension": ".py",
   "mimetype": "text/x-python",
   "name": "python",
   "nbconvert_exporter": "python",
   "pygments_lexer": "ipython3",
   "version": "3.10.11"
  }
 },
 "nbformat": 4,
 "nbformat_minor": 5
}
